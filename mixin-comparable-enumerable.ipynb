{
 "cells": [
  {
   "cell_type": "markdown",
   "metadata": {},
   "source": [
    "# Ruby Mixin\n",
    "\n",
    "Tips:\n",
    "- `<=>`を定義して、 Comparable モジュールを mixin したら `>, ==, <` が使える。\n",
    "- `each`メソッドを定義して、`Enumerable`を mixin したら、コレクションに対する様々なメソッドが使えるようになる。\n",
    "\n",
    "参考： \n",
    "- [Head First Ruby Chapter 10 Comparable and Enumerable](http://headfirstruby.com/)"
   ]
  },
  {
   "cell_type": "markdown",
   "metadata": {},
   "source": [
    "## Comparable"
   ]
  },
  {
   "cell_type": "code",
   "execution_count": 1,
   "metadata": {},
   "outputs": [
    {
     "data": {
      "text/plain": [
       "[-1, 0, 1]"
      ]
     },
     "execution_count": 1,
     "metadata": {},
     "output_type": "execute_result"
    }
   ],
   "source": [
    "[3 <=> 4, 3 <=> 3, 4 <=> 3]"
   ]
  },
  {
   "cell_type": "code",
   "execution_count": 2,
   "metadata": {},
   "outputs": [
    {
     "name": "stdout",
     "output_type": "stream",
     "text": [
      "small_ball > medium_ball: false\n",
      "medium_ball <  big_ball: true\n"
     ]
    }
   ],
   "source": [
    "class Ball\n",
    "\n",
    "  include Comparable\n",
    "\n",
    "  attr_accessor :name, :diameter\n",
    "\n",
    "  def initialize(name, diameter)\n",
    "    @name = name\n",
    "    @diameter = diameter\n",
    "  end\n",
    "\n",
    "  def <=>(other)\n",
    "    @diameter <=> other.diameter\n",
    "  end\n",
    "  \n",
    "  def to_s\n",
    "    \"#{name} of size #{diameter}\"\n",
    "  end\n",
    "  \n",
    "end\n",
    "\n",
    "small_ball = Ball.new('small', 15)\n",
    "medium_ball = Ball.new('medium', 25)\n",
    "big_ball = Ball.new('big', 45)\n",
    "\n",
    "puts \"small_ball > medium_ball: #{small_ball > medium_ball}\"\n",
    "puts \"medium_ball <  big_ball: #{medium_ball < big_ball}\""
   ]
  },
  {
   "cell_type": "markdown",
   "metadata": {},
   "source": [
    "## Enumerable"
   ]
  },
  {
   "cell_type": "code",
   "execution_count": 3,
   "metadata": {},
   "outputs": [
    {
     "data": {
      "text/plain": [
       "[#<Ball:0x00007ff9771d0f60 @name=\"red\", @diameter=15>, #<Ball:0x00007ff9771d0ec0 @name=\"yellow\", @diameter=20>, #<Ball:0x00007ff9771d0e20 @name=\"blue\", @diameter=30>, #<Ball:0x00007ff9771d0da8 @name=\"green\", @diameter=10>]"
      ]
     },
     "execution_count": 3,
     "metadata": {},
     "output_type": "execute_result"
    }
   ],
   "source": [
    "class BallPool\n",
    "\n",
    "  include Enumerable\n",
    "\n",
    "  attr_accessor :balls\n",
    "\n",
    "  def initialize\n",
    "    @balls = []\n",
    "  end\n",
    "\n",
    "  def add_balls(*balls)\n",
    "    @balls += balls\n",
    "  end\n",
    "\n",
    "  def each\n",
    "    balls.each do |ball|\n",
    "      yield ball\n",
    "    end\n",
    "  end\n",
    "\n",
    "end\n",
    "\n",
    "ball_pool = BallPool.new\n",
    "ball_pool.add_balls(Ball.new('red', 15),\n",
    "                    Ball.new('yellow', 20),\n",
    "                    Ball.new('blue', 30),\n",
    "                    Ball.new('green', 10),\n",
    "                    )"
   ]
  },
  {
   "cell_type": "code",
   "execution_count": 4,
   "metadata": {},
   "outputs": [
    {
     "name": "stdout",
     "output_type": "stream",
     "text": [
      "[#<Ball:0x00007ff9771d0e20 @name=\"blue\", @diameter=30>]\n"
     ]
    }
   ],
   "source": [
    "puts ball_pool.select { |ball| ball.diameter > 20 }"
   ]
  },
  {
   "cell_type": "code",
   "execution_count": 5,
   "metadata": {},
   "outputs": [
    {
     "name": "stdout",
     "output_type": "stream",
     "text": [
      "[#<Ball:0x00007ff9771d0f60 @name=\"red\", @diameter=15>, #<Ball:0x00007ff9771d0ec0 @name=\"yellow\", @diameter=20>, #<Ball:0x00007ff9771d0da8 @name=\"green\", @diameter=10>]\n"
     ]
    }
   ],
   "source": [
    "puts ball_pool.reject { |ball| ball.diameter > 20 }"
   ]
  },
  {
   "cell_type": "code",
   "execution_count": 6,
   "metadata": {},
   "outputs": [
    {
     "name": "stdout",
     "output_type": "stream",
     "text": [
      "[15, 20, 30, 10]\n"
     ]
    }
   ],
   "source": [
    "puts ball_pool.map { |ball| ball.diameter }"
   ]
  },
  {
   "cell_type": "code",
   "execution_count": 7,
   "metadata": {},
   "outputs": [
    {
     "name": "stdout",
     "output_type": "stream",
     "text": [
      "false\n"
     ]
    }
   ],
   "source": [
    "puts ball_pool.any? { |ball| ball.diameter > 100 }"
   ]
  },
  {
   "cell_type": "code",
   "execution_count": 8,
   "metadata": {},
   "outputs": [
    {
     "name": "stdout",
     "output_type": "stream",
     "text": [
      "4\n"
     ]
    }
   ],
   "source": [
    "puts ball_pool.count"
   ]
  },
  {
   "cell_type": "code",
   "execution_count": 9,
   "metadata": {},
   "outputs": [
    {
     "name": "stdout",
     "output_type": "stream",
     "text": [
      "red of size 15\n"
     ]
    }
   ],
   "source": [
    "puts ball_pool.first"
   ]
  },
  {
   "cell_type": "code",
   "execution_count": 10,
   "metadata": {},
   "outputs": [
    {
     "name": "stdout",
     "output_type": "stream",
     "text": [
      "[#<Ball:0x00007ff9771d0da8 @name=\"green\", @diameter=10>, #<Ball:0x00007ff9771d0f60 @name=\"red\", @diameter=15>, #<Ball:0x00007ff9771d0ec0 @name=\"yellow\", @diameter=20>, #<Ball:0x00007ff9771d0e20 @name=\"blue\", @diameter=30>]\n"
     ]
    }
   ],
   "source": [
    "puts ball_pool.sort_by { |ball| ball.diameter }"
   ]
  },
  {
   "cell_type": "code",
   "execution_count": 11,
   "metadata": {},
   "outputs": [
    {
     "name": "stdout",
     "output_type": "stream",
     "text": [
      "{false=>[#<Ball:0x00007ff9771d0f60 @name=\"red\", @diameter=15>, #<Ball:0x00007ff9771d0ec0 @name=\"yellow\", @diameter=20>, #<Ball:0x00007ff9771d0da8 @name=\"green\", @diameter=10>], true=>[#<Ball:0x00007ff9771d0e20 @name=\"blue\", @diameter=30>]}\n"
     ]
    }
   ],
   "source": [
    "puts ball_pool.group_by { |ball| ball.diameter > 20 }"
   ]
  },
  {
   "cell_type": "code",
   "execution_count": 12,
   "metadata": {},
   "outputs": [
    {
     "name": "stdout",
     "output_type": "stream",
     "text": [
      "blue of size 30\n"
     ]
    }
   ],
   "source": [
    "puts ball_pool.max_by { |ball| ball.diameter }"
   ]
  },
  {
   "cell_type": "code",
   "execution_count": 13,
   "metadata": {},
   "outputs": [
    {
     "name": "stdout",
     "output_type": "stream",
     "text": [
      "[#<Ball:0x00007ff9771d0f60 @name=\"red\", @diameter=15>, #<Ball:0x00007ff9771d0ec0 @name=\"yellow\", @diameter=20>, #<Ball:0x00007ff9771d0e20 @name=\"blue\", @diameter=30>, #<Ball:0x00007ff9771d0da8 @name=\"green\", @diameter=10>]\n"
     ]
    }
   ],
   "source": [
    "puts ball_pool.to_a"
   ]
  },
  {
   "cell_type": "code",
   "execution_count": null,
   "metadata": {},
   "outputs": [],
   "source": []
  }
 ],
 "metadata": {
  "kernelspec": {
   "display_name": "Ruby 2.4.2",
   "language": "ruby",
   "name": "ruby"
  },
  "language_info": {
   "file_extension": ".rb",
   "mimetype": "application/x-ruby",
   "name": "ruby",
   "version": "2.4.2"
  }
 },
 "nbformat": 4,
 "nbformat_minor": 2
}
