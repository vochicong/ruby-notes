{
 "cells": [
  {
   "cell_type": "markdown",
   "metadata": {},
   "source": [
    "# JSON keyに対するcamelCaseとsnake_caseの変換\n",
    "Refs: \n",
    "- https://github.com/rails/rails/pull/20389\n",
    "- https://github.com/rails-api/active_model_serializers/pull/1574\n",
    "- https://github.com/jsonapi-suite/jsonapi_suite/issues/7\n",
    "- https://github.com/rails-api/active_model_serializers/pull/1986\n",
    "- https://stackoverflow.com/questions/17240106/what-is-the-best-way-to-convert-all-controller-params-from-camelcase-to-snake-ca/30557924#30557924\n",
    "- https://github.com/rails/rails/blob/master/activesupport/lib/active_support/core_ext/hash/keys.rb#L86\n",
    "- https://github.com/rails/rails/blob/master/actionpack/lib/action_dispatch/http/parameters.rb#L11\n",
    "- http://api.rubyonrails.org/classes/Hash.html#method-i-deep_transform_keys"
   ]
  },
  {
   "cell_type": "code",
   "execution_count": 1,
   "metadata": {},
   "outputs": [
    {
     "data": {
      "text/plain": [
       "true"
      ]
     },
     "execution_count": 1,
     "metadata": {},
     "output_type": "execute_result"
    }
   ],
   "source": [
    "require \"rails\""
   ]
  },
  {
   "cell_type": "code",
   "execution_count": 2,
   "metadata": {},
   "outputs": [
    {
     "data": {
      "text/plain": [
       "\"FirstClass\""
      ]
     },
     "execution_count": 2,
     "metadata": {},
     "output_type": "execute_result"
    }
   ],
   "source": [
    "'first_class'.camelize"
   ]
  },
  {
   "cell_type": "code",
   "execution_count": 3,
   "metadata": {},
   "outputs": [
    {
     "data": {
      "text/plain": [
       "{:feeFieFoe=>\"fum\", :beepBoop=>[{:abcXyz=>\"mno\"}, {:FooBar=>\"baz\"}, {:CheeseID=>\"wensleydale\"}]}"
      ]
     },
     "execution_count": 3,
     "metadata": {},
     "output_type": "execute_result"
    }
   ],
   "source": [
    "hash = {\n",
    "    feeFieFoe: 'fum',\n",
    "    beepBoop: [\n",
    "        { 'abcXyz': 'mno' },\n",
    "        { 'FooBar': 'baz' },\n",
    "        { 'CheeseID': 'wensleydale' }\n",
    "    ]\n",
    "}"
   ]
  },
  {
   "cell_type": "code",
   "execution_count": 4,
   "metadata": {},
   "outputs": [
    {
     "data": {
      "text/plain": [
       "{\"FEEFIEFOE\"=>\"fum\", \"BEEPBOOP\"=>[{\"ABCXYZ\"=>\"mno\"}, {\"FOOBAR\"=>\"baz\"}, {\"CHEESEID\"=>\"wensleydale\"}]}"
      ]
     },
     "execution_count": 4,
     "metadata": {},
     "output_type": "execute_result"
    }
   ],
   "source": [
    "hash.deep_transform_keys{ |key| key.to_s.upcase }"
   ]
  },
  {
   "cell_type": "code",
   "execution_count": 5,
   "metadata": {},
   "outputs": [
    {
     "data": {
      "text/plain": [
       "{\"fee_fie_foe\"=>\"fum\", \"beep_boop\"=>[{\"abc_xyz\"=>\"mno\"}, {\"foo_bar\"=>\"baz\"}, {\"cheese_id\"=>\"wensleydale\"}]}"
      ]
     },
     "execution_count": 5,
     "metadata": {},
     "output_type": "execute_result"
    }
   ],
   "source": [
    "hash_underscore = hash.deep_transform_keys{ |key| key.to_s.underscore }"
   ]
  },
  {
   "cell_type": "code",
   "execution_count": 6,
   "metadata": {},
   "outputs": [
    {
     "data": {
      "text/plain": [
       "{\"feeFieFoe\"=>\"fum\", \"beepBoop\"=>[{\"abcXyz\"=>\"mno\"}, {\"fooBar\"=>\"baz\"}, {\"cheeseId\"=>\"wensleydale\"}]}"
      ]
     },
     "execution_count": 6,
     "metadata": {},
     "output_type": "execute_result"
    }
   ],
   "source": [
    "hash_underscore.deep_transform_keys{ |key| key.to_s.camelize(:lower) }"
   ]
  },
  {
   "cell_type": "code",
   "execution_count": 7,
   "metadata": {},
   "outputs": [
    {
     "data": {
      "text/plain": [
       "{\"fee_fie_foe\"=>\"fum\", \"beep_boop\"=>[{\"abc_xyz\"=>\"mno\"}, {\"foo_bar\"=>\"baz\"}, {\"cheese_id\"=>\"wensleydale\"}]}"
      ]
     },
     "execution_count": 7,
     "metadata": {},
     "output_type": "execute_result"
    }
   ],
   "source": [
    "class Hash\n",
    "  def deep_camelize\n",
    "    deep_transform_keys{ |key| key.to_s.camelize(:lower) }\n",
    "  end\n",
    "  def deep_snakeize\n",
    "    deep_transform_keys{ |key| key.to_s.underscore }\n",
    "  end\n",
    "end\n",
    "\n",
    "hash.deep_snakeize"
   ]
  },
  {
   "cell_type": "code",
   "execution_count": 8,
   "metadata": {},
   "outputs": [
    {
     "data": {
      "text/plain": [
       "{\"feeFieFoe\"=>\"fum\", \"beepBoop\"=>[{\"abcXyz\"=>\"mno\"}, {\"fooBar\"=>\"baz\"}, {\"cheeseId\"=>\"wensleydale\"}]}"
      ]
     },
     "execution_count": 8,
     "metadata": {},
     "output_type": "execute_result"
    }
   ],
   "source": [
    "hash.deep_snakeize.deep_camelize"
   ]
  }
 ],
 "metadata": {
  "kernelspec": {
   "display_name": "Ruby 2.4.2",
   "language": "ruby",
   "name": "ruby"
  },
  "language_info": {
   "file_extension": ".rb",
   "mimetype": "application/x-ruby",
   "name": "ruby",
   "version": "2.4.2"
  }
 },
 "nbformat": 4,
 "nbformat_minor": 2
}
