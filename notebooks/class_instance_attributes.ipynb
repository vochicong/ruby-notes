{
 "cells": [
  {
   "cell_type": "markdown",
   "metadata": {},
   "source": [
    "# クラス・インスタンス・属性"
   ]
  },
  {
   "cell_type": "code",
   "execution_count": 1,
   "metadata": {},
   "outputs": [
    {
     "name": "stdout",
     "output_type": "stream",
     "text": [
      "Dog of kind nihonken, name pero and age 2\n"
     ]
    }
   ],
   "source": [
    "class Dog\n",
    "  @kind = :nihonken # class attribute\n",
    "\n",
    "  attr_accessor :name, :age # instance attributes\n",
    "\n",
    "  def self.kind # class method\n",
    "    @kind\n",
    "  end\n",
    "\n",
    "  def initialize(name, age) # instance new (initialization) method\n",
    "    @name = name\n",
    "    self.age = age # within instance methods, self refers to the current object\n",
    "  end\n",
    "  \n",
    "  def age=(age)\n",
    "    raise 'Age should be >=0' if age < 0\n",
    "    @age = age\n",
    "  end\n",
    "\n",
    "  def to_s # instance method\n",
    "    \"Dog of kind #{self.class.kind}, name #{name} and age #{age}\" # name is self.name\n",
    "  end\n",
    "end\n",
    "\n",
    "pero = Dog.new(\"pero\", 2)\n",
    "puts pero"
   ]
  },
  {
   "cell_type": "code",
   "execution_count": 2,
   "metadata": {},
   "outputs": [
    {
     "ename": "RuntimeError",
     "evalue": "Age should be >=0",
     "output_type": "error",
     "traceback": [
      "\u001b[31mRuntimeError\u001b[0m: Age should be >=0",
      "\u001b[37m(pry):16:in `age='\u001b[0m",
      "\u001b[37m(pry):12:in `initialize'\u001b[0m",
      "\u001b[37m(pry):27:in `new'\u001b[0m",
      "\u001b[37m(pry):27:in `<main>'\u001b[0m",
      "\u001b[37m/Users/congvc/.rbenv/versions/2.4.2/lib/ruby/gems/2.4.0/gems/pry-0.11.2/lib/pry/pry_instance.rb:355:in `eval'\u001b[0m",
      "\u001b[37m/Users/congvc/.rbenv/versions/2.4.2/lib/ruby/gems/2.4.0/gems/pry-0.11.2/lib/pry/pry_instance.rb:355:in `evaluate_ruby'\u001b[0m",
      "\u001b[37m/Users/congvc/.rbenv/versions/2.4.2/lib/ruby/gems/2.4.0/gems/pry-0.11.2/lib/pry/pry_instance.rb:323:in `handle_line'\u001b[0m",
      "\u001b[37m/Users/congvc/.rbenv/versions/2.4.2/lib/ruby/gems/2.4.0/gems/pry-0.11.2/lib/pry/pry_instance.rb:243:in `block (2 levels) in eval'\u001b[0m",
      "\u001b[37m/Users/congvc/.rbenv/versions/2.4.2/lib/ruby/gems/2.4.0/gems/pry-0.11.2/lib/pry/pry_instance.rb:242:in `catch'\u001b[0m",
      "\u001b[37m/Users/congvc/.rbenv/versions/2.4.2/lib/ruby/gems/2.4.0/gems/pry-0.11.2/lib/pry/pry_instance.rb:242:in `block in eval'\u001b[0m",
      "\u001b[37m/Users/congvc/.rbenv/versions/2.4.2/lib/ruby/gems/2.4.0/gems/pry-0.11.2/lib/pry/pry_instance.rb:241:in `catch'\u001b[0m",
      "\u001b[37m/Users/congvc/.rbenv/versions/2.4.2/lib/ruby/gems/2.4.0/gems/pry-0.11.2/lib/pry/pry_instance.rb:241:in `eval'\u001b[0m",
      "\u001b[37m/Users/congvc/.rbenv/versions/2.4.2/lib/ruby/gems/2.4.0/gems/iruby-0.3/lib/iruby/backend.rb:66:in `eval'\u001b[0m",
      "\u001b[37m/Users/congvc/.rbenv/versions/2.4.2/lib/ruby/gems/2.4.0/gems/iruby-0.3/lib/iruby/backend.rb:12:in `eval'\u001b[0m",
      "\u001b[37m/Users/congvc/.rbenv/versions/2.4.2/lib/ruby/gems/2.4.0/gems/iruby-0.3/lib/iruby/kernel.rb:87:in `execute_request'\u001b[0m",
      "\u001b[37m/Users/congvc/.rbenv/versions/2.4.2/lib/ruby/gems/2.4.0/gems/iruby-0.3/lib/iruby/kernel.rb:47:in `dispatch'\u001b[0m",
      "\u001b[37m/Users/congvc/.rbenv/versions/2.4.2/lib/ruby/gems/2.4.0/gems/iruby-0.3/lib/iruby/kernel.rb:37:in `run'\u001b[0m",
      "\u001b[37m/Users/congvc/.rbenv/versions/2.4.2/lib/ruby/gems/2.4.0/gems/iruby-0.3/lib/iruby/command.rb:70:in `run_kernel'\u001b[0m",
      "\u001b[37m/Users/congvc/.rbenv/versions/2.4.2/lib/ruby/gems/2.4.0/gems/iruby-0.3/lib/iruby/command.rb:34:in `run'\u001b[0m",
      "\u001b[37m/Users/congvc/.rbenv/versions/2.4.2/lib/ruby/gems/2.4.0/gems/iruby-0.3/bin/iruby:5:in `<top (required)>'\u001b[0m",
      "\u001b[37m/Users/congvc/.rbenv/versions/2.4.2/bin/iruby:23:in `load'\u001b[0m",
      "\u001b[37m/Users/congvc/.rbenv/versions/2.4.2/bin/iruby:23:in `<main>'\u001b[0m"
     ]
    }
   ],
   "source": [
    "Dog.new('Hachiko', -1)"
   ]
  }
 ],
 "metadata": {
  "kernelspec": {
   "display_name": "Ruby 2.4.2",
   "language": "ruby",
   "name": "ruby"
  },
  "language_info": {
   "file_extension": ".rb",
   "mimetype": "application/x-ruby",
   "name": "ruby",
   "version": "2.4.2"
  }
 },
 "nbformat": 4,
 "nbformat_minor": 2
}
