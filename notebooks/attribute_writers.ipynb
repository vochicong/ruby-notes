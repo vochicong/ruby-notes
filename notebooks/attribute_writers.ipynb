{
 "cells": [
  {
   "cell_type": "markdown",
   "metadata": {},
   "source": [
    "# 属性ヘ代入するときは self 指定が必要"
   ]
  },
  {
   "cell_type": "code",
   "execution_count": 1,
   "metadata": {},
   "outputs": [
    {
     "data": {
      "text/plain": [
       ":to_s"
      ]
     },
     "execution_count": 1,
     "metadata": {},
     "output_type": "execute_result"
    }
   ],
   "source": [
    "# Userのnameとage属性へ代入してみる実験\n",
    "class User\n",
    "  attr_accessor :name, :age\n",
    "  \n",
    "  def initialize(n=\"No Name\", a=-1)\n",
    "    self.name = n\n",
    "    self.age = a\n",
    "  end\n",
    "\n",
    "  # selfをしてしないと、属性への代入ではなく、ローカル変数の作成になってしまう\n",
    "  def set_wrong(n, a)\n",
    "    name = n\n",
    "    age = a\n",
    "    puts \"local vars: name: #{name}, age: #{age}.\"\n",
    "    puts \"attrs: name: #{self.name}, age: #{self.age}.\"\n",
    "  end\n",
    "\n",
    "  # 属性への代入メソッドを上書き\n",
    "  def name=(n)\n",
    "    @name = \"Mr. \" + n\n",
    "  end\n",
    "\n",
    "  # selfを指定して、正しく属性へ代入\n",
    "  # self.hoge = は、インスタンスメソッド hoge= を呼び出します。\n",
    "  def set_correct(n, a)\n",
    "    self.name = n\n",
    "    self.age = a\n",
    "    puts self\n",
    "  end\n",
    "\n",
    "  # @指定でインスタンス変数へ代入\n",
    "  def set_instance_vars(n, a)\n",
    "    @name = n\n",
    "    @age = a\n",
    "    puts self\n",
    "  end\n",
    "\n",
    "  # hoge は、ローカル変数もしくはインスタンスメソッド hoge を呼び出しますが\n",
    "  # ここでは name のローカル変数が定義されていなくて、 self.name が呼び出される\n",
    "  def to_s\n",
    "    \"Name: #{name}. Age: #{age}.\"\n",
    "  end\n",
    "end"
   ]
  },
  {
   "cell_type": "code",
   "execution_count": 2,
   "metadata": {},
   "outputs": [
    {
     "data": {
      "text/plain": [
       "#<User:0x00000003772998 @name=\"Mr. No Name\", @age=-1>"
      ]
     },
     "execution_count": 2,
     "metadata": {},
     "output_type": "execute_result"
    }
   ],
   "source": [
    "u = User.new"
   ]
  },
  {
   "cell_type": "code",
   "execution_count": 3,
   "metadata": {},
   "outputs": [
    {
     "name": "stdout",
     "output_type": "stream",
     "text": [
      "local vars: name: Smith, age: 10.\n",
      "attrs: name: Mr. No Name, age: -1.\n"
     ]
    }
   ],
   "source": [
    "u.set_wrong(\"Smith\", 10)"
   ]
  },
  {
   "cell_type": "code",
   "execution_count": 4,
   "metadata": {},
   "outputs": [
    {
     "name": "stdout",
     "output_type": "stream",
     "text": [
      "Name: Mr. Smith. Age: 10.\n"
     ]
    }
   ],
   "source": [
    "u.set_correct(\"Smith\", 10)"
   ]
  },
  {
   "cell_type": "code",
   "execution_count": 5,
   "metadata": {},
   "outputs": [
    {
     "name": "stdout",
     "output_type": "stream",
     "text": [
      "Name: Smith. Age: 10.\n"
     ]
    }
   ],
   "source": [
    "u.set_instance_vars(\"Smith\", 10)"
   ]
  }
 ],
 "metadata": {
  "kernelspec": {
   "display_name": "Ruby 2.3.1",
   "language": "ruby",
   "name": "ruby"
  },
  "language_info": {
   "file_extension": ".rb",
   "mimetype": "application/x-ruby",
   "name": "ruby",
   "version": "2.3.1"
  }
 },
 "nbformat": 4,
 "nbformat_minor": 2
}
