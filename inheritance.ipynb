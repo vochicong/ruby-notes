{
 "cells": [
  {
   "cell_type": "markdown",
   "metadata": {},
   "source": [
    "# クラスの継承\n",
    "\n",
    "Tips\n",
    "- サブクラスは親からメソッドや属性を受け継ぐ\n",
    "- インスタンス変数は、その値を初期化（アサイン）されるまで存在せず、参照されたらあたいは nil\n",
    "- インスタンス変数はそのクラスまたはサブクラスのメソッドから参照できる\n",
    "- super は現在のメソッドがオーバーライドしているメソッドを呼び出す\n",
    "- Object クラスから to_s や instance_variables メソッドを継承しているが、to_s をオーバーライドすると綺麗に puts できる"
   ]
  },
  {
   "cell_type": "code",
   "execution_count": 1,
   "metadata": {},
   "outputs": [
    {
     "data": {
      "text/plain": [
       "[]"
      ]
     },
     "execution_count": 1,
     "metadata": {},
     "output_type": "execute_result"
    }
   ],
   "source": [
    "class Human\n",
    "  attr_accessor :age, :name, :spouse\n",
    "  \n",
    "  def introduce_spouse(hello='Hi')\n",
    "    \"#{hello}. My spouse is #{spouse}\"\n",
    "  end\n",
    "end\n",
    "\n",
    "class Man < Human\n",
    "  attr_accessor :wife\n",
    "  \n",
    "  def wife\n",
    "    @spouse\n",
    "  end\n",
    "  \n",
    "  def wife=(woman)\n",
    "    @spouse = woman\n",
    "  end\n",
    "  \n",
    "  def introduce_spouse(hello)\n",
    "    super + \" (my wife)\"\n",
    "  end\n",
    "  \n",
    "  def to_s\n",
    "    \"#{name} the man, age #{age}, wife #{wife}\"\n",
    "  end\n",
    "  \n",
    "end\n",
    "\n",
    "man = Human.new\n",
    "man.instance_variables"
   ]
  },
  {
   "cell_type": "code",
   "execution_count": 2,
   "metadata": {},
   "outputs": [
    {
     "data": {
      "text/plain": [
       "[:@age]"
      ]
     },
     "execution_count": 2,
     "metadata": {},
     "output_type": "execute_result"
    }
   ],
   "source": [
    "man.age = 20\n",
    "man.instance_variables"
   ]
  },
  {
   "cell_type": "code",
   "execution_count": 3,
   "metadata": {},
   "outputs": [
    {
     "data": {
      "text/plain": [
       "[]"
      ]
     },
     "execution_count": 3,
     "metadata": {},
     "output_type": "execute_result"
    }
   ],
   "source": [
    "man = Man.new\n",
    "man.instance_variables"
   ]
  },
  {
   "cell_type": "code",
   "execution_count": 4,
   "metadata": {},
   "outputs": [
    {
     "data": {
      "text/plain": [
       "[:@age]"
      ]
     },
     "execution_count": 4,
     "metadata": {},
     "output_type": "execute_result"
    }
   ],
   "source": [
    "man.age = 20\n",
    "man.instance_variables"
   ]
  },
  {
   "cell_type": "code",
   "execution_count": 5,
   "metadata": {},
   "outputs": [
    {
     "data": {
      "text/plain": [
       "[:@age, :@spouse]"
      ]
     },
     "execution_count": 5,
     "metadata": {},
     "output_type": "execute_result"
    }
   ],
   "source": [
    "man.wife = \"Natsuko\"\n",
    "man.instance_variables"
   ]
  },
  {
   "cell_type": "code",
   "execution_count": 6,
   "metadata": {},
   "outputs": [
    {
     "data": {
      "text/plain": [
       "\"Natsuko\""
      ]
     },
     "execution_count": 6,
     "metadata": {},
     "output_type": "execute_result"
    }
   ],
   "source": [
    "man.wife"
   ]
  },
  {
   "cell_type": "code",
   "execution_count": 7,
   "metadata": {},
   "outputs": [
    {
     "data": {
      "text/plain": [
       "\"Natsuko\""
      ]
     },
     "execution_count": 7,
     "metadata": {},
     "output_type": "execute_result"
    }
   ],
   "source": [
    "man.spouse"
   ]
  },
  {
   "cell_type": "code",
   "execution_count": 8,
   "metadata": {},
   "outputs": [
    {
     "data": {
      "text/plain": [
       "\"Akiko\""
      ]
     },
     "execution_count": 8,
     "metadata": {},
     "output_type": "execute_result"
    }
   ],
   "source": [
    "man.spouse = 'Akiko'"
   ]
  },
  {
   "cell_type": "code",
   "execution_count": 9,
   "metadata": {},
   "outputs": [
    {
     "data": {
      "text/plain": [
       "\"Akiko\""
      ]
     },
     "execution_count": 9,
     "metadata": {},
     "output_type": "execute_result"
    }
   ],
   "source": [
    "man.wife"
   ]
  },
  {
   "cell_type": "code",
   "execution_count": 10,
   "metadata": {},
   "outputs": [
    {
     "data": {
      "text/plain": [
       "\"Hello. My spouse is Akiko (my wife)\""
      ]
     },
     "execution_count": 10,
     "metadata": {},
     "output_type": "execute_result"
    }
   ],
   "source": [
    "man.introduce_spouse('Hello')"
   ]
  },
  {
   "cell_type": "code",
   "execution_count": 11,
   "metadata": {},
   "outputs": [
    {
     "name": "stdout",
     "output_type": "stream",
     "text": [
      "\u001b[1m\u001b[1;34mHuman#methods\u001b[0m\u001b[0m: age  age=  name  name=  spouse  spouse=\n",
      "\u001b[1m\u001b[1;34mMan#methods\u001b[0m\u001b[0m: introduce_spouse  to_s  wife  wife=\n",
      "\u001b[1m\u001b[1;34minstance variables\u001b[0m\u001b[0m: \u001b[0;34m@age\u001b[0m  \u001b[0;34m@spouse\u001b[0m\n"
     ]
    }
   ],
   "source": [
    "ls man"
   ]
  },
  {
   "cell_type": "code",
   "execution_count": 12,
   "metadata": {},
   "outputs": [
    {
     "name": "stdout",
     "output_type": "stream",
     "text": [
      "Bob the man, age 20, wife Akiko\n"
     ]
    }
   ],
   "source": [
    "man.name = 'Bob'\n",
    "puts man"
   ]
  },
  {
   "cell_type": "code",
   "execution_count": null,
   "metadata": {},
   "outputs": [],
   "source": []
  }
 ],
 "metadata": {
  "kernelspec": {
   "display_name": "Ruby 2.4.2",
   "language": "ruby",
   "name": "ruby"
  },
  "language_info": {
   "file_extension": ".rb",
   "mimetype": "application/x-ruby",
   "name": "ruby",
   "version": "2.4.2"
  }
 },
 "nbformat": 4,
 "nbformat_minor": 2
}
