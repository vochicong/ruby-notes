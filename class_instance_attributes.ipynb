{
 "cells": [
  {
   "cell_type": "markdown",
   "metadata": {},
   "source": [
    "# クラス・インスタンス・属性"
   ]
  },
  {
   "cell_type": "code",
   "execution_count": 1,
   "metadata": {},
   "outputs": [
    {
     "name": "stdout",
     "output_type": "stream",
     "text": [
      "Dog of kind nihonken, name pero and age 2\n"
     ]
    }
   ],
   "source": [
    "class Dog\n",
    "  @kind = :nihonken # class attribute\n",
    "\n",
    "  attr_accessor :name, :age # instance attributes\n",
    "\n",
    "  def self.kind # class method\n",
    "    @kind\n",
    "  end\n",
    "\n",
    "  def initialize(name, age) # instance new (initialization) method\n",
    "    @name = name\n",
    "    @age = age\n",
    "  end\n",
    "\n",
    "  def to_s # instance method\n",
    "    \"Dog of kind #{self.class.kind}, name #{name} and age #{age}\"\n",
    "  end\n",
    "end\n",
    "\n",
    "pero = Dog.new(\"pero\", 2)\n",
    "puts pero"
   ]
  }
 ],
 "metadata": {
  "kernelspec": {
   "display_name": "Ruby 2.4.2",
   "language": "ruby",
   "name": "ruby"
  },
  "language_info": {
   "file_extension": ".rb",
   "mimetype": "application/x-ruby",
   "name": "ruby",
   "version": "2.4.2"
  }
 },
 "nbformat": 4,
 "nbformat_minor": 2
}
